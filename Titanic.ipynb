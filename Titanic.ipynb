{
 "cells": [
  {
   "cell_type": "markdown",
   "id": "2d30eb4a",
   "metadata": {},
   "source": [
    "# <font color = \"blue\"> Exploração dos Titanic do Naufrágio</font>"
   ]
  },
  {
   "cell_type": "markdown",
   "id": "447ae32a",
   "metadata": {},
   "source": [
    "# Resumo"
   ]
  },
  {
   "cell_type": "markdown",
   "id": "e4d08e05",
   "metadata": {},
   "source": [
    "   O Titanic, um dos maiores e mais luxuosos navios de passageiros de sua época, naufragou tragicamente em sua \n",
    "viagem inaugural de Southampton para Nova York em 15 de abril de 1912. O naufrágio ocorreu após colidir com um \n",
    "iceberg no Oceano Atlântico Norte, resultando em uma das maiores tragédias marítimas da história. \n",
    "\n",
    "Perguntas para Explorar com Dados do Kaggle:\n",
    "\n",
    "    1-)Qual foi a taxa de sobrevivência geral dos passageiros a bordo do Titanic?\n",
    "    2-)Existe uma diferença significativa na taxa de sobrevivência entre passageiros do sexo masculino e feminino?\n",
    "    3-)Qual foi a relação entre a classe socioeconômica dos passageiros e sua taxa de sobrevivência?\n",
    "    4-)Houve alguma correlação entre a idade dos passageiros e suas chances de sobrevivência?\n",
    "    5-)Os passageiros que viajavam sozinhos tinham uma taxa de sobrevivência diferente daqueles que viajavam com familiares?"
   ]
  },
  {
   "cell_type": "markdown",
   "id": "0eb3bb22",
   "metadata": {},
   "source": [
    "# Bibliotecas"
   ]
  },
  {
   "cell_type": "code",
   "execution_count": 1,
   "id": "53b88b9a",
   "metadata": {},
   "outputs": [],
   "source": [
    "import pandas as pd"
   ]
  },
  {
   "cell_type": "code",
   "execution_count": 2,
   "id": "ca95de6d",
   "metadata": {},
   "outputs": [],
   "source": [
    "import matplotlib.pyplot as plt\n",
    "%matplotlib inline"
   ]
  },
  {
   "cell_type": "code",
   "execution_count": 3,
   "id": "ade18946",
   "metadata": {},
   "outputs": [],
   "source": [
    "import seaborn as sns"
   ]
  },
  {
   "cell_type": "markdown",
   "id": "f61f1595",
   "metadata": {},
   "source": [
    "# DataFrames "
   ]
  },
  {
   "cell_type": "code",
   "execution_count": 4,
   "id": "da545ca7",
   "metadata": {},
   "outputs": [],
   "source": [
    "df_train = pd.read_csv(\"C:/FCD/I2A2/Titanic/train.csv\") "
   ]
  },
  {
   "cell_type": "markdown",
   "id": "bb30aa03",
   "metadata": {},
   "source": [
    "# Analisando os Dados"
   ]
  },
  {
   "cell_type": "code",
   "execution_count": 5,
   "id": "520b1f2c",
   "metadata": {},
   "outputs": [
    {
     "data": {
      "text/html": [
       "<div>\n",
       "<style scoped>\n",
       "    .dataframe tbody tr th:only-of-type {\n",
       "        vertical-align: middle;\n",
       "    }\n",
       "\n",
       "    .dataframe tbody tr th {\n",
       "        vertical-align: top;\n",
       "    }\n",
       "\n",
       "    .dataframe thead th {\n",
       "        text-align: right;\n",
       "    }\n",
       "</style>\n",
       "<table border=\"1\" class=\"dataframe\">\n",
       "  <thead>\n",
       "    <tr style=\"text-align: right;\">\n",
       "      <th></th>\n",
       "      <th>PassengerId</th>\n",
       "      <th>Survived</th>\n",
       "      <th>Pclass</th>\n",
       "      <th>Name</th>\n",
       "      <th>Sex</th>\n",
       "      <th>Age</th>\n",
       "      <th>SibSp</th>\n",
       "      <th>Parch</th>\n",
       "      <th>Ticket</th>\n",
       "      <th>Fare</th>\n",
       "      <th>Cabin</th>\n",
       "      <th>Embarked</th>\n",
       "    </tr>\n",
       "  </thead>\n",
       "  <tbody>\n",
       "    <tr>\n",
       "      <th>0</th>\n",
       "      <td>1</td>\n",
       "      <td>0</td>\n",
       "      <td>3</td>\n",
       "      <td>Braund, Mr. Owen Harris</td>\n",
       "      <td>male</td>\n",
       "      <td>22.0</td>\n",
       "      <td>1</td>\n",
       "      <td>0</td>\n",
       "      <td>A/5 21171</td>\n",
       "      <td>7.2500</td>\n",
       "      <td>NaN</td>\n",
       "      <td>S</td>\n",
       "    </tr>\n",
       "    <tr>\n",
       "      <th>1</th>\n",
       "      <td>2</td>\n",
       "      <td>1</td>\n",
       "      <td>1</td>\n",
       "      <td>Cumings, Mrs. John Bradley (Florence Briggs Th...</td>\n",
       "      <td>female</td>\n",
       "      <td>38.0</td>\n",
       "      <td>1</td>\n",
       "      <td>0</td>\n",
       "      <td>PC 17599</td>\n",
       "      <td>71.2833</td>\n",
       "      <td>C85</td>\n",
       "      <td>C</td>\n",
       "    </tr>\n",
       "    <tr>\n",
       "      <th>2</th>\n",
       "      <td>3</td>\n",
       "      <td>1</td>\n",
       "      <td>3</td>\n",
       "      <td>Heikkinen, Miss. Laina</td>\n",
       "      <td>female</td>\n",
       "      <td>26.0</td>\n",
       "      <td>0</td>\n",
       "      <td>0</td>\n",
       "      <td>STON/O2. 3101282</td>\n",
       "      <td>7.9250</td>\n",
       "      <td>NaN</td>\n",
       "      <td>S</td>\n",
       "    </tr>\n",
       "    <tr>\n",
       "      <th>3</th>\n",
       "      <td>4</td>\n",
       "      <td>1</td>\n",
       "      <td>1</td>\n",
       "      <td>Futrelle, Mrs. Jacques Heath (Lily May Peel)</td>\n",
       "      <td>female</td>\n",
       "      <td>35.0</td>\n",
       "      <td>1</td>\n",
       "      <td>0</td>\n",
       "      <td>113803</td>\n",
       "      <td>53.1000</td>\n",
       "      <td>C123</td>\n",
       "      <td>S</td>\n",
       "    </tr>\n",
       "    <tr>\n",
       "      <th>4</th>\n",
       "      <td>5</td>\n",
       "      <td>0</td>\n",
       "      <td>3</td>\n",
       "      <td>Allen, Mr. William Henry</td>\n",
       "      <td>male</td>\n",
       "      <td>35.0</td>\n",
       "      <td>0</td>\n",
       "      <td>0</td>\n",
       "      <td>373450</td>\n",
       "      <td>8.0500</td>\n",
       "      <td>NaN</td>\n",
       "      <td>S</td>\n",
       "    </tr>\n",
       "  </tbody>\n",
       "</table>\n",
       "</div>"
      ],
      "text/plain": [
       "   PassengerId  Survived  Pclass  \\\n",
       "0            1         0       3   \n",
       "1            2         1       1   \n",
       "2            3         1       3   \n",
       "3            4         1       1   \n",
       "4            5         0       3   \n",
       "\n",
       "                                                Name     Sex   Age  SibSp  \\\n",
       "0                            Braund, Mr. Owen Harris    male  22.0      1   \n",
       "1  Cumings, Mrs. John Bradley (Florence Briggs Th...  female  38.0      1   \n",
       "2                             Heikkinen, Miss. Laina  female  26.0      0   \n",
       "3       Futrelle, Mrs. Jacques Heath (Lily May Peel)  female  35.0      1   \n",
       "4                           Allen, Mr. William Henry    male  35.0      0   \n",
       "\n",
       "   Parch            Ticket     Fare Cabin Embarked  \n",
       "0      0         A/5 21171   7.2500   NaN        S  \n",
       "1      0          PC 17599  71.2833   C85        C  \n",
       "2      0  STON/O2. 3101282   7.9250   NaN        S  \n",
       "3      0            113803  53.1000  C123        S  \n",
       "4      0            373450   8.0500   NaN        S  "
      ]
     },
     "execution_count": 5,
     "metadata": {},
     "output_type": "execute_result"
    }
   ],
   "source": [
    "df_train.head()"
   ]
  },
  {
   "cell_type": "markdown",
   "id": "80ec6c56",
   "metadata": {},
   "source": [
    "# Dicionário do dataset"
   ]
  },
  {
   "cell_type": "code",
   "execution_count": 6,
   "id": "eea631a8",
   "metadata": {},
   "outputs": [],
   "source": [
    "dicionario = pd.read_excel('C:/FCD/I2A2/Titanic/dictionary_titanic.xlsx')"
   ]
  },
  {
   "cell_type": "code",
   "execution_count": 7,
   "id": "cb024802",
   "metadata": {},
   "outputs": [
    {
     "data": {
      "text/html": [
       "<div>\n",
       "<style scoped>\n",
       "    .dataframe tbody tr th:only-of-type {\n",
       "        vertical-align: middle;\n",
       "    }\n",
       "\n",
       "    .dataframe tbody tr th {\n",
       "        vertical-align: top;\n",
       "    }\n",
       "\n",
       "    .dataframe thead th {\n",
       "        text-align: right;\n",
       "    }\n",
       "</style>\n",
       "<table border=\"1\" class=\"dataframe\">\n",
       "  <thead>\n",
       "    <tr style=\"text-align: right;\">\n",
       "      <th></th>\n",
       "      <th>Variable</th>\n",
       "      <th>Definition</th>\n",
       "      <th>Key</th>\n",
       "    </tr>\n",
       "  </thead>\n",
       "  <tbody>\n",
       "    <tr>\n",
       "      <th>0</th>\n",
       "      <td>survival</td>\n",
       "      <td>Survival</td>\n",
       "      <td>0 = No, 1 = Yes</td>\n",
       "    </tr>\n",
       "    <tr>\n",
       "      <th>1</th>\n",
       "      <td>pclass</td>\n",
       "      <td>Ticket class</td>\n",
       "      <td>1 = 1st, 2 = 2nd, 3 = 3rd</td>\n",
       "    </tr>\n",
       "    <tr>\n",
       "      <th>2</th>\n",
       "      <td>sex</td>\n",
       "      <td>Sex</td>\n",
       "      <td>NaN</td>\n",
       "    </tr>\n",
       "    <tr>\n",
       "      <th>3</th>\n",
       "      <td>Age</td>\n",
       "      <td>Age in years</td>\n",
       "      <td>NaN</td>\n",
       "    </tr>\n",
       "    <tr>\n",
       "      <th>4</th>\n",
       "      <td>sibsp</td>\n",
       "      <td># of siblings / spouses aboard the Titanic</td>\n",
       "      <td>NaN</td>\n",
       "    </tr>\n",
       "    <tr>\n",
       "      <th>5</th>\n",
       "      <td>parch</td>\n",
       "      <td># of parents / children aboard the Titanic</td>\n",
       "      <td>NaN</td>\n",
       "    </tr>\n",
       "    <tr>\n",
       "      <th>6</th>\n",
       "      <td>ticket</td>\n",
       "      <td>Ticket number</td>\n",
       "      <td>NaN</td>\n",
       "    </tr>\n",
       "    <tr>\n",
       "      <th>7</th>\n",
       "      <td>fare</td>\n",
       "      <td>Passenger fare</td>\n",
       "      <td>NaN</td>\n",
       "    </tr>\n",
       "    <tr>\n",
       "      <th>8</th>\n",
       "      <td>cabin</td>\n",
       "      <td>Cabin number</td>\n",
       "      <td>NaN</td>\n",
       "    </tr>\n",
       "    <tr>\n",
       "      <th>9</th>\n",
       "      <td>embarked</td>\n",
       "      <td>Port of Embarkation</td>\n",
       "      <td>C = Cherbourg, Q = Queenstown, S = Southampton</td>\n",
       "    </tr>\n",
       "  </tbody>\n",
       "</table>\n",
       "</div>"
      ],
      "text/plain": [
       "   Variable                                  Definition  \\\n",
       "0  survival                                    Survival   \n",
       "1    pclass                                Ticket class   \n",
       "2       sex                                         Sex   \n",
       "3       Age                                Age in years   \n",
       "4     sibsp  # of siblings / spouses aboard the Titanic   \n",
       "5     parch  # of parents / children aboard the Titanic   \n",
       "6    ticket                               Ticket number   \n",
       "7      fare                              Passenger fare   \n",
       "8     cabin                                Cabin number   \n",
       "9  embarked                         Port of Embarkation   \n",
       "\n",
       "                                              Key  \n",
       "0                                 0 = No, 1 = Yes  \n",
       "1                       1 = 1st, 2 = 2nd, 3 = 3rd  \n",
       "2                                             NaN  \n",
       "3                                             NaN  \n",
       "4                                             NaN  \n",
       "5                                             NaN  \n",
       "6                                             NaN  \n",
       "7                                             NaN  \n",
       "8                                             NaN  \n",
       "9  C = Cherbourg, Q = Queenstown, S = Southampton  "
      ]
     },
     "execution_count": 7,
     "metadata": {},
     "output_type": "execute_result"
    }
   ],
   "source": [
    "dicionario"
   ]
  },
  {
   "cell_type": "markdown",
   "id": "874304b7",
   "metadata": {},
   "source": [
    "# Perguntas para Explorar com Dados"
   ]
  },
  {
   "cell_type": "markdown",
   "id": "50edb853",
   "metadata": {},
   "source": [
    "1-) Qual foi a taxa de sobrevivência geral dos passageiros a bordo do Titanic?"
   ]
  },
  {
   "cell_type": "code",
   "execution_count": 8,
   "id": "7b05dde4",
   "metadata": {},
   "outputs": [],
   "source": [
    "contagem = df_train['Survived'].value_counts()"
   ]
  },
  {
   "cell_type": "code",
   "execution_count": 9,
   "id": "2c1920d7",
   "metadata": {},
   "outputs": [],
   "source": [
    "contagem.index = contagem.index.map({0: 'morto', 1: 'Vivo'})"
   ]
  },
  {
   "cell_type": "code",
   "execution_count": 10,
   "id": "19d0083a",
   "metadata": {
    "scrolled": true
   },
   "outputs": [
    {
     "data": {
      "image/png": "[encoded data removed]",
      "text/plain": [
       "<Figure size 432x288 with 1 Axes>"
      ]
     },
     "metadata": {
      "needs_background": "light"
     },
     "output_type": "display_data"
    }
   ],
   "source": [
    "plt.bar(contagem.index,contagem.values)\n",
    "plt.xlabel('Sobreviventes')\n",
    "plt.ylabel('Contagem')\n",
    "plt.title('Contagem de Sobrevivente')\n",
    "plt.show()"
   ]
  },
  {
   "cell_type": "code",
   "execution_count": 11,
   "id": "812ee2ab",
   "metadata": {},
   "outputs": [
    {
     "name": "stdout",
     "output_type": "stream",
     "text": [
      "Contagem de valores:\n",
      "morto    549\n",
      "Vivo     342\n",
      "Name: Survived, dtype: int64\n"
     ]
    }
   ],
   "source": [
    "print('Contagem de valores:')\n",
    "print(contagem)"
   ]
  },
  {
   "cell_type": "code",
   "execution_count": 12,
   "id": "88d3e463",
   "metadata": {},
   "outputs": [],
   "source": [
    "# Calcular porcetagem\n",
    "total_sobreviventes = contagem.sum()\n",
    "porcentagem_sobreviventes = (contagem/total_sobreviventes) * 100"
   ]
  },
  {
   "cell_type": "code",
   "execution_count": 13,
   "id": "b7b1a1de",
   "metadata": {},
   "outputs": [
    {
     "data": {
      "image/png": "[encoded data removed]",
      "text/plain": [
       "<Figure size 432x288 with 1 Axes>"
      ]
     },
     "metadata": {
      "needs_background": "light"
     },
     "output_type": "display_data"
    }
   ],
   "source": [
    "plt.bar(porcentagem_sobreviventes.index,porcentagem_sobreviventes.values)\n",
    "plt.xlabel('Sobreviventes')\n",
    "plt.ylabel('Porcentagem')\n",
    "plt.title('Porcentagem de Sobrevivente')\n",
    "plt.show()"
   ]
  },
  {
   "cell_type": "code",
   "execution_count": 14,
   "id": "b9eb6873",
   "metadata": {},
   "outputs": [
    {
     "name": "stdout",
     "output_type": "stream",
     "text": [
      "morto: 61.62%\n",
      "Vivo: 38.38%\n"
     ]
    }
   ],
   "source": [
    "for categoria, porcentagem in porcentagem_sobreviventes.items():\n",
    "    print(f\"{categoria}: {porcentagem:.2f}%\")"
   ]
  },
  {
   "cell_type": "markdown",
   "id": "27cde2a1",
   "metadata": {},
   "source": [
    "2-)Existe uma diferença significativa na taxa de sobrevivência entre passageiros do sexo masculino e feminino?"
   ]
  },
  {
   "cell_type": "code",
   "execution_count": 15,
   "id": "b423682c",
   "metadata": {},
   "outputs": [],
   "source": [
    "contagem_sexo = df_train['Sex'].value_counts()"
   ]
  },
  {
   "cell_type": "code",
   "execution_count": 16,
   "id": "58479ab5",
   "metadata": {},
   "outputs": [
    {
     "data": {
      "text/plain": [
       "male      577\n",
       "female    314\n",
       "Name: Sex, dtype: int64"
      ]
     },
     "execution_count": 16,
     "metadata": {},
     "output_type": "execute_result"
    }
   ],
   "source": [
    "contagem_sexo"
   ]
  },
  {
   "cell_type": "code",
   "execution_count": 17,
   "id": "17366fca",
   "metadata": {},
   "outputs": [],
   "source": [
    "contagem_sexo.index = contagem_sexo.index.map({'male': 'masculino', 'female': 'feminino'})"
   ]
  },
  {
   "cell_type": "code",
   "execution_count": 19,
   "id": "0fc56ff2",
   "metadata": {},
   "outputs": [],
   "source": [
    "# Calculando porcetagem\n",
    "total_genero = contagem_sexo.sum()\n",
    "genero_porcentagem = (contagem_sexo/total_genero)*100"
   ]
  },
  {
   "cell_type": "code",
   "execution_count": 20,
   "id": "f79e9641",
   "metadata": {},
   "outputs": [
    {
     "data": {
      "image/png": "[encoded data removed]",
      "text/plain": [
       "<Figure size 432x288 with 1 Axes>"
      ]
     },
     "metadata": {
      "needs_background": "light"
     },
     "output_type": "display_data"
    }
   ],
   "source": [
    "# Criando o gráfico de barras para porcentagens\n",
    "plt.bar(genero_porcentagem.index, genero_porcentagem.values, label='Porcentagem')\n",
    "\n",
    "# Adicionando rótulos e título\n",
    "plt.xlabel('Gênero')\n",
    "plt.ylabel('Porcentagem')\n",
    "plt.title('Porcentagem dos Gêneros')\n",
    "\n",
    "# Adicionando barras secundárias para representar o total\n",
    "total_por_genero = genero_porcentagem.sum()\n",
    "plt.bar(genero_porcentagem.index, [total_por_genero] * len(genero_porcentagem), alpha=0.3, color='blue', label='Total')\n",
    "\n",
    "# Adicionando legenda\n",
    "plt.legend()\n",
    "\n",
    "# Definindo o formato das porcentagens no eixo y\n",
    "plt.yticks(plt.gca().get_yticks(), ['{:.0f}%'.format(x) for x in plt.gca().get_yticks()])\n",
    "\n",
    "# Exibindo o gráfico\n",
    "plt.show()\n"
   ]
  },
  {
   "cell_type": "code",
   "execution_count": 21,
   "id": "91e0d4cf",
   "metadata": {},
   "outputs": [
    {
     "name": "stdout",
     "output_type": "stream",
     "text": [
      "Contagem gênero:\n",
      "masculino    577\n",
      "feminino     314\n",
      "Name: Sex, dtype: int64\n"
     ]
    }
   ],
   "source": [
    "print('Contagem gênero:')\n",
    "print(contagem_sexo)"
   ]
  },
  {
   "cell_type": "code",
   "execution_count": 22,
   "id": "b485c613",
   "metadata": {},
   "outputs": [
    {
     "name": "stdout",
     "output_type": "stream",
     "text": [
      "masculino:  64.76%\n",
      "feminino:  35.24%\n"
     ]
    }
   ],
   "source": [
    "for categoria, porcentagem in genero_porcentagem.items():\n",
    "    print (f\"{categoria}: {porcentagem: .2f}%\")"
   ]
  },
  {
   "cell_type": "markdown",
   "id": "cffeb430",
   "metadata": {},
   "source": [
    "3-)Qual foi a relação entre a classe socioeconômica dos passageiros e sua taxa de sobrevivência?"
   ]
  },
  {
   "cell_type": "code",
   "execution_count": 23,
   "id": "20df075c",
   "metadata": {},
   "outputs": [],
   "source": [
    "df_train_group = df_train.groupby('Pclass')"
   ]
  },
  {
   "cell_type": "code",
   "execution_count": 24,
   "id": "e50167aa",
   "metadata": {},
   "outputs": [
    {
     "data": {
      "text/plain": [
       "3"
      ]
     },
     "execution_count": 24,
     "metadata": {},
     "output_type": "execute_result"
    }
   ],
   "source": [
    "# Número de grupos\n",
    "len(df_train_group)"
   ]
  },
  {
   "cell_type": "code",
   "execution_count": 25,
   "id": "960a02ff",
   "metadata": {},
   "outputs": [],
   "source": [
    "ordena_classe = df_train_group.size()"
   ]
  },
  {
   "cell_type": "code",
   "execution_count": 26,
   "id": "c47902f2",
   "metadata": {},
   "outputs": [
    {
     "data": {
      "text/plain": [
       "Pclass\n",
       "3    491\n",
       "1    216\n",
       "2    184\n",
       "dtype: int64"
      ]
     },
     "execution_count": 26,
     "metadata": {},
     "output_type": "execute_result"
    }
   ],
   "source": [
    "# Ordena os grupos por ordem decrescente\n",
    "ordena_classe.sort_values(ascending= False)"
   ]
  },
  {
   "cell_type": "code",
   "execution_count": 27,
   "id": "78ffe0a6",
   "metadata": {},
   "outputs": [],
   "source": [
    "ordena_classe.index = ordena_classe.index.map({ 1 : \"1st\", 2:\"2nd\", 3: \"3rd\"})"
   ]
  },
  {
   "cell_type": "code",
   "execution_count": 28,
   "id": "0f34f522",
   "metadata": {},
   "outputs": [
    {
     "data": {
      "image/png": "[encoded data removed]",
      "text/plain": [
       "<Figure size 432x288 with 1 Axes>"
      ]
     },
     "metadata": {
      "needs_background": "light"
     },
     "output_type": "display_data"
    }
   ],
   "source": [
    "df_train.groupby(['Pclass', 'Survived']).size().unstack().plot(kind='bar', stacked=True)\n",
    "\n",
    "# Adicionando rótulos e título\n",
    "plt.xlabel('Classe Social')\n",
    "plt.ylabel('Número de Passageiros')\n",
    "plt.title('Relação entre Classe Social e Sobrevivência')\n",
    "\n",
    "# Exibindo o gráfico\n",
    "plt.show()"
   ]
  },
  {
   "cell_type": "code",
   "execution_count": 29,
   "id": "b5693ab3",
   "metadata": {},
   "outputs": [
    {
     "name": "stdout",
     "output_type": "stream",
     "text": [
      "Correlação entre 'Classe social' e 'Sobrevivente': -0.3384810359610147\n"
     ]
    }
   ],
   "source": [
    "correlacao = df_train['Pclass'].corr(df_train['Survived'])\n",
    "print(f\"Correlação entre 'Classe social' e 'Sobrevivente': {correlacao}\")"
   ]
  },
  {
   "cell_type": "markdown",
   "id": "8c7a70d2",
   "metadata": {},
   "source": [
    "A correlação é um valor entre -1 e 1, onde:\n",
    "\n",
    "    Um valor próximo de 1 indica uma forte correlação positiva.\n",
    "    Um valor próximo de -1 indica uma forte correlação negativa.\n",
    "    Um valor próximo de 0 indica que não há correlação."
   ]
  },
  {
   "cell_type": "markdown",
   "id": "0ccb3076",
   "metadata": {},
   "source": [
    "4-)Houve alguma correlação entre a idade dos passageiros e suas chances de sobrevivência?"
   ]
  },
  {
   "cell_type": "code",
   "execution_count": 30,
   "id": "58bebba9",
   "metadata": {},
   "outputs": [
    {
     "name": "stdout",
     "output_type": "stream",
     "text": [
      "Correlação entre Idade e Sobrevivente: -0.07722109457217764\n"
     ]
    }
   ],
   "source": [
    "correlacao_idade_sobrevivente = df_train['Age'].corr(df_train['Survived'])\n",
    "print(f'Correlação entre Idade e Sobrevivente: {correlacao_idade_sobrevivente}')"
   ]
  },
  {
   "cell_type": "markdown",
   "id": "b110ac3e",
   "metadata": {},
   "source": [
    "A correlação é um valor entre -1 e 1, onde:\n",
    "\n",
    "        Um valor próximo de 1 indica uma forte correlação positiva.\n",
    "        Um valor próximo de -1 indica uma forte correlação negativa.\n",
    "        Um valor próximo de 0 indica que não há correlação."
   ]
  },
  {
   "cell_type": "markdown",
   "id": "f938f666",
   "metadata": {},
   "source": [
    "5-)Os passageiros que viajavam sozinhos tinham uma taxa de sobrevivência diferente daqueles que viajavam com familiares?"
   ]
  },
  {
   "cell_type": "code",
   "execution_count": 31,
   "id": "e320444a",
   "metadata": {},
   "outputs": [
    {
     "data": {
      "text/html": [
       "<div>\n",
       "<style scoped>\n",
       "    .dataframe tbody tr th:only-of-type {\n",
       "        vertical-align: middle;\n",
       "    }\n",
       "\n",
       "    .dataframe tbody tr th {\n",
       "        vertical-align: top;\n",
       "    }\n",
       "\n",
       "    .dataframe thead th {\n",
       "        text-align: right;\n",
       "    }\n",
       "</style>\n",
       "<table border=\"1\" class=\"dataframe\">\n",
       "  <thead>\n",
       "    <tr style=\"text-align: right;\">\n",
       "      <th></th>\n",
       "      <th>PassengerId</th>\n",
       "      <th>Survived</th>\n",
       "      <th>Pclass</th>\n",
       "      <th>Name</th>\n",
       "      <th>Sex</th>\n",
       "      <th>Age</th>\n",
       "      <th>SibSp</th>\n",
       "      <th>Parch</th>\n",
       "      <th>Ticket</th>\n",
       "      <th>Fare</th>\n",
       "      <th>Cabin</th>\n",
       "      <th>Embarked</th>\n",
       "    </tr>\n",
       "  </thead>\n",
       "  <tbody>\n",
       "    <tr>\n",
       "      <th>0</th>\n",
       "      <td>1</td>\n",
       "      <td>0</td>\n",
       "      <td>3</td>\n",
       "      <td>Braund, Mr. Owen Harris</td>\n",
       "      <td>male</td>\n",
       "      <td>22.0</td>\n",
       "      <td>1</td>\n",
       "      <td>0</td>\n",
       "      <td>A/5 21171</td>\n",
       "      <td>7.2500</td>\n",
       "      <td>NaN</td>\n",
       "      <td>S</td>\n",
       "    </tr>\n",
       "    <tr>\n",
       "      <th>1</th>\n",
       "      <td>2</td>\n",
       "      <td>1</td>\n",
       "      <td>1</td>\n",
       "      <td>Cumings, Mrs. John Bradley (Florence Briggs Th...</td>\n",
       "      <td>female</td>\n",
       "      <td>38.0</td>\n",
       "      <td>1</td>\n",
       "      <td>0</td>\n",
       "      <td>PC 17599</td>\n",
       "      <td>71.2833</td>\n",
       "      <td>C85</td>\n",
       "      <td>C</td>\n",
       "    </tr>\n",
       "    <tr>\n",
       "      <th>2</th>\n",
       "      <td>3</td>\n",
       "      <td>1</td>\n",
       "      <td>3</td>\n",
       "      <td>Heikkinen, Miss. Laina</td>\n",
       "      <td>female</td>\n",
       "      <td>26.0</td>\n",
       "      <td>0</td>\n",
       "      <td>0</td>\n",
       "      <td>STON/O2. 3101282</td>\n",
       "      <td>7.9250</td>\n",
       "      <td>NaN</td>\n",
       "      <td>S</td>\n",
       "    </tr>\n",
       "    <tr>\n",
       "      <th>3</th>\n",
       "      <td>4</td>\n",
       "      <td>1</td>\n",
       "      <td>1</td>\n",
       "      <td>Futrelle, Mrs. Jacques Heath (Lily May Peel)</td>\n",
       "      <td>female</td>\n",
       "      <td>35.0</td>\n",
       "      <td>1</td>\n",
       "      <td>0</td>\n",
       "      <td>113803</td>\n",
       "      <td>53.1000</td>\n",
       "      <td>C123</td>\n",
       "      <td>S</td>\n",
       "    </tr>\n",
       "    <tr>\n",
       "      <th>4</th>\n",
       "      <td>5</td>\n",
       "      <td>0</td>\n",
       "      <td>3</td>\n",
       "      <td>Allen, Mr. William Henry</td>\n",
       "      <td>male</td>\n",
       "      <td>35.0</td>\n",
       "      <td>0</td>\n",
       "      <td>0</td>\n",
       "      <td>373450</td>\n",
       "      <td>8.0500</td>\n",
       "      <td>NaN</td>\n",
       "      <td>S</td>\n",
       "    </tr>\n",
       "    <tr>\n",
       "      <th>...</th>\n",
       "      <td>...</td>\n",
       "      <td>...</td>\n",
       "      <td>...</td>\n",
       "      <td>...</td>\n",
       "      <td>...</td>\n",
       "      <td>...</td>\n",
       "      <td>...</td>\n",
       "      <td>...</td>\n",
       "      <td>...</td>\n",
       "      <td>...</td>\n",
       "      <td>...</td>\n",
       "      <td>...</td>\n",
       "    </tr>\n",
       "    <tr>\n",
       "      <th>886</th>\n",
       "      <td>887</td>\n",
       "      <td>0</td>\n",
       "      <td>2</td>\n",
       "      <td>Montvila, Rev. Juozas</td>\n",
       "      <td>male</td>\n",
       "      <td>27.0</td>\n",
       "      <td>0</td>\n",
       "      <td>0</td>\n",
       "      <td>211536</td>\n",
       "      <td>13.0000</td>\n",
       "      <td>NaN</td>\n",
       "      <td>S</td>\n",
       "    </tr>\n",
       "    <tr>\n",
       "      <th>887</th>\n",
       "      <td>888</td>\n",
       "      <td>1</td>\n",
       "      <td>1</td>\n",
       "      <td>Graham, Miss. Margaret Edith</td>\n",
       "      <td>female</td>\n",
       "      <td>19.0</td>\n",
       "      <td>0</td>\n",
       "      <td>0</td>\n",
       "      <td>112053</td>\n",
       "      <td>30.0000</td>\n",
       "      <td>B42</td>\n",
       "      <td>S</td>\n",
       "    </tr>\n",
       "    <tr>\n",
       "      <th>888</th>\n",
       "      <td>889</td>\n",
       "      <td>0</td>\n",
       "      <td>3</td>\n",
       "      <td>Johnston, Miss. Catherine Helen \"Carrie\"</td>\n",
       "      <td>female</td>\n",
       "      <td>NaN</td>\n",
       "      <td>1</td>\n",
       "      <td>2</td>\n",
       "      <td>W./C. 6607</td>\n",
       "      <td>23.4500</td>\n",
       "      <td>NaN</td>\n",
       "      <td>S</td>\n",
       "    </tr>\n",
       "    <tr>\n",
       "      <th>889</th>\n",
       "      <td>890</td>\n",
       "      <td>1</td>\n",
       "      <td>1</td>\n",
       "      <td>Behr, Mr. Karl Howell</td>\n",
       "      <td>male</td>\n",
       "      <td>26.0</td>\n",
       "      <td>0</td>\n",
       "      <td>0</td>\n",
       "      <td>111369</td>\n",
       "      <td>30.0000</td>\n",
       "      <td>C148</td>\n",
       "      <td>C</td>\n",
       "    </tr>\n",
       "    <tr>\n",
       "      <th>890</th>\n",
       "      <td>891</td>\n",
       "      <td>0</td>\n",
       "      <td>3</td>\n",
       "      <td>Dooley, Mr. Patrick</td>\n",
       "      <td>male</td>\n",
       "      <td>32.0</td>\n",
       "      <td>0</td>\n",
       "      <td>0</td>\n",
       "      <td>370376</td>\n",
       "      <td>7.7500</td>\n",
       "      <td>NaN</td>\n",
       "      <td>Q</td>\n",
       "    </tr>\n",
       "  </tbody>\n",
       "</table>\n",
       "<p>891 rows × 12 columns</p>\n",
       "</div>"
      ],
      "text/plain": [
       "     PassengerId  Survived  Pclass  \\\n",
       "0              1         0       3   \n",
       "1              2         1       1   \n",
       "2              3         1       3   \n",
       "3              4         1       1   \n",
       "4              5         0       3   \n",
       "..           ...       ...     ...   \n",
       "886          887         0       2   \n",
       "887          888         1       1   \n",
       "888          889         0       3   \n",
       "889          890         1       1   \n",
       "890          891         0       3   \n",
       "\n",
       "                                                  Name     Sex   Age  SibSp  \\\n",
       "0                              Braund, Mr. Owen Harris    male  22.0      1   \n",
       "1    Cumings, Mrs. John Bradley (Florence Briggs Th...  female  38.0      1   \n",
       "2                               Heikkinen, Miss. Laina  female  26.0      0   \n",
       "3         Futrelle, Mrs. Jacques Heath (Lily May Peel)  female  35.0      1   \n",
       "4                             Allen, Mr. William Henry    male  35.0      0   \n",
       "..                                                 ...     ...   ...    ...   \n",
       "886                              Montvila, Rev. Juozas    male  27.0      0   \n",
       "887                       Graham, Miss. Margaret Edith  female  19.0      0   \n",
       "888           Johnston, Miss. Catherine Helen \"Carrie\"  female   NaN      1   \n",
       "889                              Behr, Mr. Karl Howell    male  26.0      0   \n",
       "890                                Dooley, Mr. Patrick    male  32.0      0   \n",
       "\n",
       "     Parch            Ticket     Fare Cabin Embarked  \n",
       "0        0         A/5 21171   7.2500   NaN        S  \n",
       "1        0          PC 17599  71.2833   C85        C  \n",
       "2        0  STON/O2. 3101282   7.9250   NaN        S  \n",
       "3        0            113803  53.1000  C123        S  \n",
       "4        0            373450   8.0500   NaN        S  \n",
       "..     ...               ...      ...   ...      ...  \n",
       "886      0            211536  13.0000   NaN        S  \n",
       "887      0            112053  30.0000   B42        S  \n",
       "888      2        W./C. 6607  23.4500   NaN        S  \n",
       "889      0            111369  30.0000  C148        C  \n",
       "890      0            370376   7.7500   NaN        Q  \n",
       "\n",
       "[891 rows x 12 columns]"
      ]
     },
     "execution_count": 31,
     "metadata": {},
     "output_type": "execute_result"
    }
   ],
   "source": [
    "df_train"
   ]
  },
  {
   "cell_type": "code",
   "execution_count": 32,
   "id": "f350df87",
   "metadata": {},
   "outputs": [
    {
     "name": "stdout",
     "output_type": "stream",
     "text": [
      "Os passageiros que viajavam com familiares tinham uma taxa de sobrevivência maior.\n"
     ]
    }
   ],
   "source": [
    "\n",
    "\n",
    "# 1. Identificar quem viajava sozinho e quem viajava com familiares\n",
    "df_train['Viajava_Sozinho'] = (df_train['SibSp'] == 0) & (df_train['Parch'] == 0)\n",
    "\n",
    "# 2. Calcular a taxa de sobrevivência para ambos os grupos\n",
    "taxa_sobrevivencia_sozinho = df_train[df_train['Viajava_Sozinho']]['Survived'].mean()\n",
    "taxa_sobrevivencia_com_familiares = df_train[~df_train['Viajava_Sozinho']]['Survived'].mean()\n",
    "\n",
    "# 3. Comparar as taxas de sobrevivência\n",
    "if taxa_sobrevivencia_sozinho > taxa_sobrevivencia_com_familiares:\n",
    "    print(\"Os passageiros que viajavam sozinhos tinham uma taxa de sobrevivência maior.\")\n",
    "elif taxa_sobrevivencia_sozinho < taxa_sobrevivencia_com_familiares:\n",
    "    print(\"Os passageiros que viajavam com familiares tinham uma taxa de sobrevivência maior.\")\n",
    "else:\n",
    "    print(\"Não houve diferença significativa na taxa de sobrevivência entre os passageiros que viajavam sozinhos e os que viajavam com familiares.\")\n"
   ]
  },
  {
   "cell_type": "code",
   "execution_count": 33,
   "id": "ab458f7c",
   "metadata": {},
   "outputs": [
    {
     "name": "stdout",
     "output_type": "stream",
     "text": [
      "Taxa de sobrevivência para passageiros que viajavam sozinhos: 30.35%\n",
      "Taxa de sobrevivência para passageiros que viajavam com familiares: 50.56%\n"
     ]
    }
   ],
   "source": [
    "# 2. Calcular a taxa de sobrevivência para ambos os grupos\n",
    "taxa_sobrevivencia_sozinho = df_train[df_train['Viajava_Sozinho']]['Survived'].mean() * 100\n",
    "taxa_sobrevivencia_com_familiares = df_train[~df_train['Viajava_Sozinho']]['Survived'].mean() * 100\n",
    "\n",
    "# Exibir as taxas de sobrevivência em porcentagem\n",
    "print(\"Taxa de sobrevivência para passageiros que viajavam sozinhos: {:.2f}%\".format(taxa_sobrevivencia_sozinho))\n",
    "print(\"Taxa de sobrevivência para passageiros que viajavam com familiares: {:.2f}%\".format(taxa_sobrevivencia_com_familiares))\n"
   ]
  },
  {
   "cell_type": "code",
   "execution_count": 34,
   "id": "b1bcd678",
   "metadata": {},
   "outputs": [
    {
     "data": {
      "image/png": "[encoded data removed]",
      "text/plain": [
       "<Figure size 432x288 with 1 Axes>"
      ]
     },
     "metadata": {
      "needs_background": "light"
     },
     "output_type": "display_data"
    }
   ],
   "source": [
    "\n",
    "# Dados das taxas de sobrevivência\n",
    "categorias = ['Viajava Sozinho', 'Viajava com Familiares']\n",
    "taxas_sobrevivencia = [taxa_sobrevivencia_sozinho, taxa_sobrevivencia_com_familiares]\n",
    "\n",
    "# Criar o gráfico de barras\n",
    "plt.bar(categorias, taxas_sobrevivencia, color=['blue', 'green'])\n",
    "\n",
    "# Adicionar rótulos e título\n",
    "plt.xlabel('Condição de Viagem')\n",
    "plt.ylabel('Taxa de Sobrevivência (%)')\n",
    "plt.title('Taxa de Sobrevivência por Condição de Viagem')\n",
    "\n",
    "# Exibir as taxas de sobrevivência acima das barras\n",
    "for i in range(len(categorias)):\n",
    "    plt.text(i, taxas_sobrevivencia[i] + 1, f'{taxas_sobrevivencia[i]:.2f}%', ha='center')\n",
    "\n",
    "# Exibir o gráfico\n",
    "plt.show()\n"
   ]
  },
  {
   "cell_type": "code",
   "execution_count": null,
   "id": "745ac755",
   "metadata": {},
   "outputs": [],
   "source": []
  }
 ],
 "metadata": {
  "kernelspec": {
   "display_name": "Python 3",
   "language": "python",
   "name": "python3"
  },
  "language_info": {
   "codemirror_mode": {
    "name": "ipython",
    "version": 3
   },
   "file_extension": ".py",
   "mimetype": "text/x-python",
   "name": "python",
   "nbconvert_exporter": "python",
   "pygments_lexer": "ipython3",
   "version": "3.8.8"
  }
 },
 "nbformat": 4,
 "nbformat_minor": 5
}
